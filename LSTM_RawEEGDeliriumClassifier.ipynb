{
  "nbformat": 4,
  "nbformat_minor": 0,
  "metadata": {
    "colab": {
      "provenance": [],
      "gpuType": "V100",
      "authorship_tag": "ABX9TyNuL0btHFLjLftgItQDkj8S",
      "include_colab_link": true
    },
    "kernelspec": {
      "name": "python3",
      "display_name": "Python 3"
    },
    "language_info": {
      "name": "python"
    },
    "accelerator": "GPU"
  },
  "cells": [
    {
      "cell_type": "markdown",
      "metadata": {
        "id": "view-in-github",
        "colab_type": "text"
      },
      "source": [
        "<a href=\"https://colab.research.google.com/github/NoahIslam/ShinozakiLabEEGMLModels/blob/main/LSTM_RawEEGDeliriumClassifier.ipynb\" target=\"_parent\"><img src=\"https://colab.research.google.com/assets/colab-badge.svg\" alt=\"Open In Colab\"/></a>"
      ]
    },
    {
      "cell_type": "code",
      "execution_count": null,
      "metadata": {
        "colab": {
          "base_uri": "https://localhost:8080/"
        },
        "id": "MUpeJfk4f32f",
        "outputId": "be0fe3e9-0033-4497-8cab-9960d2b6423c"
      },
      "outputs": [
        {
          "output_type": "stream",
          "name": "stdout",
          "text": [
            "Drive already mounted at /content/drive; to attempt to forcibly remount, call drive.mount(\"/content/drive\", force_remount=True).\n"
          ]
        }
      ],
      "source": [
        "from google.colab import drive\n",
        "drive.mount('/content/drive')"
      ]
    },
    {
      "cell_type": "code",
      "source": [
        "import glob\n",
        "import pandas as pd\n",
        "import os\n",
        "import datetime\n",
        "import numpy as np\n",
        "import torch\n",
        "import torch.nn as nn\n",
        "from torch.utils.data import Dataset, DataLoader, random_split, WeightedRandomSampler\n",
        "import torchvision.models as models\n",
        "from torchvision import transforms\n",
        "import torch.optim as optim\n",
        "import torch.nn as nn\n",
        "import torch.nn.functional as F\n",
        "import pickle\n",
        "dtype = torch.float32"
      ],
      "metadata": {
        "id": "axlH2QeZf6Mk"
      },
      "execution_count": null,
      "outputs": []
    },
    {
      "cell_type": "code",
      "source": [
        "with open('/content/drive/MyDrive/data_cropped.pkl', 'rb') as f:\n",
        "    data = pickle.load(f)\n",
        "\n",
        "with open('/content/drive/MyDrive/labels_cropped.pkl', 'rb') as f:\n",
        "    labels = pickle.load(f)"
      ],
      "metadata": {
        "id": "QTpgHX0hf89x"
      },
      "execution_count": null,
      "outputs": []
    },
    {
      "cell_type": "code",
      "source": [
        "for i in range(len(data)):\n",
        "  data[i] = data[i][:64001]"
      ],
      "metadata": {
        "id": "3YdOUWvZUzt1"
      },
      "execution_count": null,
      "outputs": []
    },
    {
      "cell_type": "code",
      "source": [
        "from sklearn.model_selection import train_test_split\n",
        "from sklearn.utils import resample\n",
        "\n",
        "X_train, X_test, y_train, y_test = train_test_split(data, labels, test_size=0.2, random_state=42, stratify=labels)\n",
        "\n",
        "# Combine the data and labels for easier resampling\n",
        "combined_train = list(zip(X_train, y_train))\n",
        "combined_test = list(zip(X_test, y_test))\n",
        "\n",
        "# Separate classes\n",
        "class_0_train = [item for item in combined_train if item[1] == 0]\n",
        "class_1_train = [item for item in combined_train if item[1] == 1]\n",
        "\n",
        "class_0_test = [item for item in combined_test if item[1] == 0]\n",
        "class_1_test = [item for item in combined_test if item[1] == 1]\n",
        "\n",
        "# Upsample the minority (this assumes class_1 is the minority. If not, switch them around.)\n",
        "class_1_upsampled_train = resample(class_1_train, replace=True, n_samples=len(class_0_train), random_state=42)\n",
        "class_1_upsampled_test = resample(class_1_test, replace=True, n_samples=len(class_0_test), random_state=42)\n",
        "\n",
        "# Combine and shuffle\n",
        "balanced_data_train = class_0_train + class_1_upsampled_train\n",
        "balanced_data_test = class_0_test + class_1_upsampled_test\n",
        "np.random.shuffle(balanced_data_train)\n",
        "np.random.shuffle(balanced_data_test)\n",
        "\n",
        "X_train_balanced = [item[0] for item in balanced_data_train]\n",
        "y_train_balanced = [item[1] for item in balanced_data_train]\n",
        "\n",
        "X_test_balanced = [item[0] for item in balanced_data_test]\n",
        "y_test_balanced = [item[1] for item in balanced_data_test]"
      ],
      "metadata": {
        "id": "pBkbB3H1kNJ9"
      },
      "execution_count": null,
      "outputs": []
    },
    {
      "cell_type": "code",
      "source": [
        "import torch\n",
        "from torch.utils.data import DataLoader, TensorDataset\n",
        "\n",
        "# Convert to PyTorch tensors\n",
        "X_train_tensors = [torch.tensor(d, dtype=torch.float32).unsqueeze(1) for d in X_train_balanced]  # Adding channel dimension\n",
        "y_train_tensors = torch.tensor(y_train_balanced, dtype=torch.long)\n",
        "\n",
        "\n",
        "X_test_tensors = [torch.tensor(d, dtype=torch.float32).unsqueeze(1) for d in X_test_balanced]  # Adding channel dimension\n",
        "y_test_tensors = torch.tensor(y_test_balanced, dtype=torch.long)\n",
        "\n",
        "# Create datasets\n",
        "train_dataset = list(zip(X_train_tensors, y_train_tensors))\n",
        "test_dataset = list(zip(X_test_tensors, y_test_tensors))\n",
        "\n",
        "# Create dataloaders\n",
        "BATCH_SIZE = 16\n",
        "train_loader = DataLoader(train_dataset, shuffle=True, batch_size=BATCH_SIZE)\n",
        "test_loader = DataLoader(test_dataset, shuffle=False, batch_size=BATCH_SIZE)\n"
      ],
      "metadata": {
        "id": "l_M3UDapkn3t"
      },
      "execution_count": null,
      "outputs": []
    },
    {
      "cell_type": "code",
      "source": [
        "class EEG_LSTM(nn.Module):\n",
        "    def __init__(self, input_size, hidden_size, num_layers, num_classes):\n",
        "        super(EEG_LSTM, self).__init__()\n",
        "        self.hidden_size = hidden_size\n",
        "        self.num_layers = num_layers\n",
        "        self.lstm = nn.LSTM(input_size, hidden_size, num_layers, batch_first=True)\n",
        "        self.fc = nn.Linear(hidden_size, num_classes)\n",
        "\n",
        "    def forward(self, x):\n",
        "        h0 = torch.zeros(self.num_layers, x.size(0), self.hidden_size).to(x.device)\n",
        "        c0 = torch.zeros(self.num_layers, x.size(0), self.hidden_size).to(x.device)\n",
        "\n",
        "        out, _ = self.lstm(x, (h0, c0))\n",
        "        out = self.fc(out[:, -1, :])\n",
        "        return out\n"
      ],
      "metadata": {
        "id": "QignZ3PCShgt"
      },
      "execution_count": null,
      "outputs": []
    },
    {
      "cell_type": "code",
      "source": [
        "class GRU(nn.Module):\n",
        "    def __init__(self, input_size, hidden_size, num_layers, num_classes):\n",
        "        super(GRU, self).__init__()\n",
        "\n",
        "        self.gru_layer = nn.GRU(\n",
        "            input_size=input_size,\n",
        "            hidden_size=hidden_size,\n",
        "            num_layers=num_layers,\n",
        "            bias=True,\n",
        "            batch_first=True,       # input & output will has batch size as 1s dimension. e.g. (batch, segment_length, no_feature)\n",
        "        )\n",
        "\n",
        "        self.out = nn.Linear(hidden_size, num_classes)\n",
        "\n",
        "    def forward(self, x):\n",
        "        r_out, (h_n, h_c) = self.gru_layer(x.float(), None)\n",
        "        r_out = F.dropout(r_out, 0.3)\n",
        "        test_output = self.out(r_out[:, -1, :]) # choose r_out at the last time step\n",
        "        return test_output"
      ],
      "metadata": {
        "id": "QsRAK747pL1U"
      },
      "execution_count": null,
      "outputs": []
    },
    {
      "cell_type": "code",
      "source": [
        "class LSTM(nn.Module):\n",
        "    def __init__(self, input_size, hidden_size, num_layers, num_classes):\n",
        "        super(LSTM, self).__init__()\n",
        "        self.hidden_size = hidden_size\n",
        "        self.num_layers = num_layers\n",
        "\n",
        "        self.lstm_layer = nn.LSTM(\n",
        "            input_size=input_size,\n",
        "            hidden_size=hidden_size,         # LSTM hidden unit\n",
        "            num_layers=num_layers,           # number of LSTM layer\n",
        "            bias=True,\n",
        "            batch_first=True,       # input & output will has batch size as 1s dimension. e.g. (batch, segment_length, no_feature)\n",
        "        )\n",
        "\n",
        "        self.out = nn.Linear(hidden_size, num_classes)\n",
        "\n",
        "    def forward(self, x):\n",
        "        r_out, (h_n, h_c) = self.lstm_layer(x.float(), None)\n",
        "        r_out = F.dropout(r_out, 0.3)\n",
        "\n",
        "        test_output = self.out(r_out[:, -1, :]) # choose r_out at the last time step\n",
        "        return test_output"
      ],
      "metadata": {
        "id": "DN19uJe7mvnY"
      },
      "execution_count": null,
      "outputs": []
    },
    {
      "cell_type": "code",
      "source": [
        "class TestModel(nn.Module):\n",
        "  def __init__(self, in_features, num_channels):\n",
        "    super().__init__()\n",
        "    self.resnet = models.resnet18(pretrained=True)\n",
        "    self.resnet.conv1 = nn.Conv2d(num_channels, 64, kernel_size=7, stride=2, padding=3, bias=False)\n",
        "\n",
        "    self.l1 = nn.Sequential(\n",
        "      nn.Dropout(p=0.2),\n",
        "      nn.Linear(in_features=1000, out_features=32),\n",
        "      nn.ReLU(),\n",
        "      nn.Linear(in_features=32, out_features=1),\n",
        "      nn.Sigmoid()\n",
        "    )\n",
        "\n",
        "  def forward(self, x):\n",
        "    x = self.resnet(x)\n",
        "    x = torch.flatten(x, 1)\n",
        "\n",
        "    return self.l1(x)\n"
      ],
      "metadata": {
        "id": "n-OMGNGxDJSr"
      },
      "execution_count": null,
      "outputs": []
    },
    {
      "cell_type": "code",
      "source": [
        "def train(model, train_loader, test_loader, criterion, optimizer, num_epochs):\n",
        "    best_accuracy = 0\n",
        "    for epoch in range(num_epochs):\n",
        "        model.train() # Ensure the model is in training mode\n",
        "        correct_train = 0\n",
        "        total_train = 0\n",
        "        for i, (data, labels) in enumerate(train_loader):\n",
        "            data, labels = data.to(device), labels.to(device)\n",
        "            print(data.shape)\n",
        "            data = data.permute(1, 0, 2, 3)\n",
        "            print(data.shape)\n",
        "\n",
        "            # Forward pass\n",
        "            outputs = model(data)\n",
        "            loss = criterion(outputs, labels.long())\n",
        "\n",
        "            _, predicted = torch.max(outputs.data, 1)\n",
        "            total_train += labels.size(0)\n",
        "            correct_train += (predicted == labels).sum().item()\n",
        "\n",
        "            # Backward pass and optimization\n",
        "            optimizer.zero_grad()\n",
        "            loss.backward()\n",
        "            optimizer.step()\n",
        "\n",
        "        # Evaluate on validation set\n",
        "        model.eval()\n",
        "        with torch.no_grad():\n",
        "            correct_valid = 0\n",
        "            total_valid = 0\n",
        "            for data, labels in test_loader:\n",
        "                data, labels = data.to(device), labels.to(device)\n",
        "                data = data.permute(1, 0, 2, 3)\n",
        "\n",
        "                outputs = model(data)\n",
        "                _, predicted = torch.max(outputs.data, 1)\n",
        "                total_valid += labels.size(0)\n",
        "                correct_valid += (predicted == labels).sum().item()\n",
        "\n",
        "        val_accuracy = 100 * correct_valid / total_valid\n",
        "        train_accuracy = 100 * correct_train / total_train\n",
        "        best_accuracy = max(best_accuracy, val_accuracy)\n",
        "\n",
        "        print(f\"Epoch [{epoch + 1}/{num_epochs}], Loss: {loss.item():.4f}, Train Accuracy: {train_accuracy:.2f}%, Validation Accuracy: {val_accuracy:.2f}%\")\n",
        "    return best_accuracy\n"
      ],
      "metadata": {
        "id": "W4k-7C6LSzPv"
      },
      "execution_count": null,
      "outputs": []
    },
    {
      "cell_type": "code",
      "source": [
        "from pandas.core.groupby.generic import GroupByApply\n",
        "\n",
        "input_size = 1  # since you have one channel\n",
        "hidden_size = 64\n",
        "num_layers = 3\n",
        "num_classes = 2\n",
        "num_epochs = 5\n",
        "\n",
        "device = torch.device(\"cuda:0\" if torch.cuda.is_available() else \"cpu\")\n",
        "# model = LSTM(input_size, hidden_size, num_layers, num_classes).to(device)\n",
        "# model = GRU(input_size, hidden_size, num_layers, num_classes).to(device)\n",
        "model = TestModel(64001, 1).to(device)\n",
        "# model = EEG_LSTM(input_size, hidden_size, num_layers, num_classes).to(device)\n",
        "# model = torcheeg.models.LSTM(num_electrodes=1, hid_channels=hidden_size, num_classes=num_classes).to(device)\n",
        "# model = torcheeg.models.GRU(num_electrodes=1, hid_channels=hidden_size, num_classes=num_classes).to(device)\n",
        "\n",
        "lrs = [.01, .001, 1e-4, .1e-5, 1e-6, 1e-7]\n",
        "accuracies = {}\n",
        "for lr in lrs:\n",
        "    criterion = nn.CrossEntropyLoss()\n",
        "    optimizer = optim.Adam(model.parameters(), lr=lr)\n",
        "\n",
        "    accuracy = train(model, train_loader, test_loader, criterion, optimizer, num_epochs)\n",
        "    accuracies[lr] = accuracy"
      ],
      "metadata": {
        "id": "4dXe7Gxvfnjf"
      },
      "execution_count": null,
      "outputs": []
    },
    {
      "cell_type": "code",
      "source": [
        "print(accuracies)"
      ],
      "metadata": {
        "id": "FyMRlsB1t1lO"
      },
      "execution_count": null,
      "outputs": []
    }
  ]
}